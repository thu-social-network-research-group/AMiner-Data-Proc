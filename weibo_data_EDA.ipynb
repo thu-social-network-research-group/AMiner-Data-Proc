{
 "cells": [
  {
   "cell_type": "code",
   "execution_count": 4,
   "metadata": {
    "collapsed": true,
    "pycharm": {
     "is_executing": false
    }
   },
   "outputs": [],
   "source": [
    "import numpy as np\n",
    "import matplotlib.pyplot as plt\n",
    "import seaborn as sns\n",
    "import pandas as pd\n"
   ]
  },
  {
   "cell_type": "code",
   "execution_count": 5,
   "outputs": [],
   "source": [
    "# data path \n",
    "weibo_network_inout_degree_path = './weibo_network_inout_degree.csv'\n",
    "\n",
    "net_inoutdegree = pd.read_csv(weibo_network_inout_degree_path)"
   ],
   "metadata": {
    "collapsed": false,
    "pycharm": {
     "name": "#%%\n",
     "is_executing": false
    }
   }
  },
  {
   "cell_type": "code",
   "execution_count": 9,
   "outputs": [
    {
     "data": {
      "text/plain": "         Unnamed: 0     In-degree    Out-degree\ncount  1.787443e+06  1.787443e+06  1.787443e+06\nmean   8.937210e+05  2.313381e+02  2.313381e+02\nstd    5.159905e+05  2.779197e+02  2.213257e+03\nmin    0.000000e+00  0.000000e+00  0.000000e+00\n25%    4.468605e+05  6.100000e+01  1.200000e+01\n50%    8.937210e+05  1.290000e+02  4.000000e+01\n75%    1.340582e+06  2.800000e+02  1.370000e+02\nmax    1.787442e+06  2.875000e+03  4.282850e+05",
      "text/html": "<div>\n<style scoped>\n    .dataframe tbody tr th:only-of-type {\n        vertical-align: middle;\n    }\n\n    .dataframe tbody tr th {\n        vertical-align: top;\n    }\n\n    .dataframe thead th {\n        text-align: right;\n    }\n</style>\n<table border=\"1\" class=\"dataframe\">\n  <thead>\n    <tr style=\"text-align: right;\">\n      <th></th>\n      <th>Unnamed: 0</th>\n      <th>In-degree</th>\n      <th>Out-degree</th>\n    </tr>\n  </thead>\n  <tbody>\n    <tr>\n      <td>count</td>\n      <td>1.787443e+06</td>\n      <td>1.787443e+06</td>\n      <td>1.787443e+06</td>\n    </tr>\n    <tr>\n      <td>mean</td>\n      <td>8.937210e+05</td>\n      <td>2.313381e+02</td>\n      <td>2.313381e+02</td>\n    </tr>\n    <tr>\n      <td>std</td>\n      <td>5.159905e+05</td>\n      <td>2.779197e+02</td>\n      <td>2.213257e+03</td>\n    </tr>\n    <tr>\n      <td>min</td>\n      <td>0.000000e+00</td>\n      <td>0.000000e+00</td>\n      <td>0.000000e+00</td>\n    </tr>\n    <tr>\n      <td>25%</td>\n      <td>4.468605e+05</td>\n      <td>6.100000e+01</td>\n      <td>1.200000e+01</td>\n    </tr>\n    <tr>\n      <td>50%</td>\n      <td>8.937210e+05</td>\n      <td>1.290000e+02</td>\n      <td>4.000000e+01</td>\n    </tr>\n    <tr>\n      <td>75%</td>\n      <td>1.340582e+06</td>\n      <td>2.800000e+02</td>\n      <td>1.370000e+02</td>\n    </tr>\n    <tr>\n      <td>max</td>\n      <td>1.787442e+06</td>\n      <td>2.875000e+03</td>\n      <td>4.282850e+05</td>\n    </tr>\n  </tbody>\n</table>\n</div>"
     },
     "metadata": {},
     "output_type": "execute_result",
     "execution_count": 9
    }
   ],
   "source": [
    "net_inoutdegree.describe()"
   ],
   "metadata": {
    "collapsed": false,
    "pycharm": {
     "name": "#%%\n",
     "is_executing": false
    }
   }
  },
  {
   "cell_type": "code",
   "execution_count": 7,
   "outputs": [
    {
     "name": "stdout",
     "text": [
      "Total Weibo user: 1787443\n",
      "Total following relationship number: 3574886\n"
     ],
     "output_type": "stream"
    }
   ],
   "source": [
    "total_user_num = len(net_inoutdegree)\n",
    "total_follow_num = net_inoutdegree['In-degree'].count() + net_inoutdegree['Out-degree'].count()\n",
    "print('Total Weibo user: {}'.format(total_user_num))\n",
    "print('Total following relationship number: {}'.format(total_follow_num))"
   ],
   "metadata": {
    "collapsed": false,
    "pycharm": {
     "name": "#%%\n",
     "is_executing": false
    }
   }
  },
  {
   "cell_type": "markdown",
   "source": [
    "Plotting the degree distribution (in-degree and out-degree respectively)"
   ],
   "metadata": {
    "collapsed": false,
    "pycharm": {
     "name": "#%% md\n"
    }
   }
  },
  {
   "cell_type": "code",
   "source": [
    "indeg_val = net_inoutdegree['In-degree'].value_counts()\n",
    "outdeg_val = net_inoutdegree['Out-degree'].value_counts()\n",
    "\n",
    "fig, ax = plt.subplots()\n",
    "ax.set_xscale(\"log\")\n",
    "ax.set_yscale(\"log\")\n",
    "ax.set_xlim(xmin=1,xmax=1e4)\n",
    "ax.scatter(indeg_val.index, indeg_val)"
   ],
   "metadata": {
    "collapsed": false,
    "pycharm": {
     "name": "#%%\n",
     "is_executing": false
    }
   },
   "execution_count": 21,
   "outputs": [
    {
     "data": {
      "text/plain": "<matplotlib.collections.PathCollection at 0x1e2374e3f28>"
     },
     "metadata": {},
     "output_type": "execute_result",
     "execution_count": 21
    },
    {
     "data": {
      "text/plain": "<matplotlib.figure.Figure at 0x1e2374e3d68>",
      "image/png": "[encoded data removed]"
     },
     "metadata": {},
     "output_type": "display_data"
    }
   ]
  }
 ],
 "metadata": {
  "kernelspec": {
   "display_name": "Python 3",
   "language": "python",
   "name": "python3"
  },
  "language_info": {
   "codemirror_mode": {
    "name": "ipython",
    "version": 2
   },
   "file_extension": ".py",
   "mimetype": "text/x-python",
   "name": "python",
   "nbconvert_exporter": "python",
   "pygments_lexer": "ipython2",
   "version": "2.7.6"
  },
  "pycharm": {
   "stem_cell": {
    "cell_type": "raw",
    "source": [],
    "metadata": {
     "collapsed": false
    }
   }
  }
 },
 "nbformat": 4,
 "nbformat_minor": 0
}